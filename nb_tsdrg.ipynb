{
 "cells": [
  {
   "cell_type": "markdown",
   "metadata": {
    "pycharm": {
     "name": "#%% md\n"
    }
   },
   "source": [
    "# Algorithm 🚀\n",
    "\n",
    "## Preparation\n",
    "\n",
    "1. Decompose Hamiltonian (of an 1D system) into MPO form.\n",
    "2. Calculate the 2-site Hamiltonian for each nearest-neighbor $i$ and $i+1$.\n",
    "\n",
    " \n",
    "> 👉 This can be done in the following way. Suppose we have the following MPO on site $i$, \n",
    ">    \n",
    "> $$\n",
    "        W_i =\n",
    "        \\begin{bmatrix}\n",
    "            I & S^+_i & S^z_i\\\\\n",
    "            0 & 0 & S^-_i \\\\\n",
    "            0 & 0 & I\n",
    "        \\end{bmatrix}\n",
    "$$\n",
    ">\n",
    "> By considering the product of the left vector $W^{[L]}$ and the right vector $W^{[R]}$ on site $i$ and $i+1$, respectively, we have\n",
    ">   \n",
    "> $$\n",
    "        W^{[L]}_i W^{[R]}_{i+1} \\\\ \n",
    "        = \\begin{bmatrix}\n",
    "            I & S^+_i & S^z_i\n",
    "           \\end{bmatrix}\n",
    "        \\begin{bmatrix}\n",
    "            S^z_{i+1}\\\\\n",
    "            S^-_{i+1} \\\\\n",
    "            I\n",
    "        \\end{bmatrix},\n",
    "$$\n",
    ">\n",
    "> where the left vector is taken from the 1st row of the MPO, and the right vector is taken from the last column of the MPO. The vector product immediately yields the 2-site Hamiltonian.\n",
    "\n",
    "> **Note:** The example here is the Ising model with transverse field.\n",
    "\n",
    "3. Compute the energy spectrum (eigenvalues) for every 2-site Hamiltonian.\n",
    "4. Considering the bond dimension $\\chi$ to be the number of eigenvectors that will be preserved later. We define the energy gap $\\Delta_{\\chi}$ to be\n",
    "\n",
    "$$\n",
    "    \\Delta_{\\chi} = \n",
    "    \\begin{cases}\n",
    "        E_N - E_{N-1} \\,\\,\\,\\,\\,when \\,\\,\\chi \\geq N - 1,\\\\\n",
    "        E_{\\chi+1} - E_{\\chi} \\,\\,\\,\\,\\,when \\,\\,\\chi < N - 1,\n",
    "    \\end{cases}\n",
    "$$\n",
    "\n",
    "where $N$ is the total number of eigenvectors."
   ]
  },
  {
   "cell_type": "markdown",
   "metadata": {
    "collapsed": true,
    "pycharm": {
     "name": "#%% md\n"
    }
   },
   "source": [
    "## Main part: growing the tree\n",
    "\n",
    "<div>\n",
    "<img src=\"image/tsdrg1.png\" width=\"300\"/>\n",
    "&nbsp;\n",
    "<img src=\"image/tsdrg2.png\" width=\"300\"/>\n",
    "</div>"
   ]
  },
  {
   "cell_type": "markdown",
   "metadata": {
    "collapsed": false
   },
   "source": [
    "1. Merge the 2-site block with largest energy gap. This can be performed by constructing the isometric tensor $V$ (the triangular tensor in the figure) to be $min(\\chi, N)$ eigenvectors of the 2-site Hamiltonian. By contracting $V^{\\dagger}$ and $V$ with 2 MPO tensors, one gets the updated MPO.\n",
    "2. Compute the energy spectrum and the energy gap accordingly for affected block with its neighbors.\n",
    "3. Repeat this procedure until there is only one MPO tensor remained.\n",
    "\n",
    "> Note: The isometric tensor at each step should be saved for later usage."
   ]
  },
  {
   "cell_type": "markdown",
   "metadata": {},
   "source": [
    "# Data Structure 🚀\n",
    "\n",
    "The problem considered here essentially forms a random binary tree. Though the construction of this tree is bottom-up, the data structure takes the same as in the standard top-down approach. Here we take Python for implementation\n",
    "\n",
    "```python\n",
    "from dataclasses import dataclass\n",
    "from typing import Any\n",
    "\n",
    "@dataclass\n",
    "class TreeNode:\n",
    "    id: int\n",
    "    value: Any\n",
    "    left: 'TreeNode' = None\n",
    "    right: 'TreeNode' = None\n",
    "```\n",
    "\n",
    "In class `TreeNode`, for each attribute we mean\n",
    "\n",
    "- **id:** The identity of each tree node\n",
    "- **value:** Data you want to save. Here it will be the isometric tensor $V$.\n",
    "- **left:** The child tree node on the left.\n",
    "- **right:** The child tree node on the right."
   ]
  },
  {
   "cell_type": "markdown",
   "metadata": {},
   "source": [
    "# Measurements 🚀\n",
    "\n",
    "We consider 3 physical measurements, energy spectrum near the ground state, correlation function and entanglement entropy. For latter two, one needs to consider the problem of lowest common ancestor (LCA) in graph theory and computer science.\n",
    "\n",
    "\n",
    "### 🔭 Near-ground-state energies\n",
    "\n",
    "We may compare the tSDRG result with exact diagonalization (ED)"
   ]
  },
  {
   "cell_type": "code",
   "execution_count": 2,
   "metadata": {},
   "outputs": [
    {
     "name": "stdout",
     "output_type": "stream",
     "text": [
      "[-5.725274   -5.72107734 -4.74615997 -4.71268557 -4.06178764 -3.51217086\n",
      " -3.25686868 -3.1702727  -3.08738826 -2.96569967 -2.96208476 -2.36976171\n",
      " -2.2468987  -1.96518603 -1.93061032 -1.66092774 -1.63521806 -1.53696184\n",
      " -1.53608151 -1.50235556 -1.3824775  -1.30353663 -1.28495105 -0.74151444\n",
      " -0.48708556 -0.46889621 -0.38280498 -0.32933783  0.02287853  0.02405187\n",
      "  0.11860807  0.14026275  0.25916564  0.26466405  0.29724328  0.41903877\n",
      "  0.52586047  0.57210892  0.73767002  0.99008145  0.99912061  1.28296561\n",
      "  1.39148235  1.50087939  1.58252137  1.62971816  1.79899183  1.80060276\n",
      "  1.82251982  2.32711     2.35072418  2.42976868  2.51529568  2.62638576\n",
      "  2.77518678  2.78965217  3.0927528   3.37982529  3.39238364  3.40923678\n",
      "  3.59608887  4.2094474   4.42301798  5.18876342]\n"
     ]
    }
   ],
   "source": [
    "from tnpy.model import RandomHeisenberg\n",
    "from tnpy.exact_diagonalization import ExactDiagonalization as ED\n",
    "\n",
    "model = RandomHeisenberg(N=6, h=3.0)\n",
    "model.seed = 2021\n",
    "ed = ED(model.mpo)\n",
    "print(ed.evals)"
   ]
  },
  {
   "cell_type": "markdown",
   "metadata": {
    "pycharm": {
     "name": "#%% md\n"
    }
   },
   "source": [
    "whereas for tSDRG, and with truncated bond dimensions $\\chi < 2**N$"
   ]
  },
  {
   "cell_type": "code",
   "execution_count": 3,
   "metadata": {
    "pycharm": {
     "name": "#%%\n"
    }
   },
   "outputs": [
    {
     "name": "stderr",
     "output_type": "stream",
     "text": [
      "2021-10-27 16:56:05 [tsdrg.py] INFO: step 1, merging TreeNode(4) and TreeNode(5) to TreeNode(7)\n",
      "2021-10-27 16:56:05 [tsdrg.py] INFO: step 2, merging TreeNode(2) and TreeNode(3) to TreeNode(8)\n",
      "2021-10-27 16:56:05 [tsdrg.py] INFO: step 3, merging TreeNode(8) and TreeNode(7) to TreeNode(9)\n",
      "2021-10-27 16:56:05 [tsdrg.py] INFO: step 4, merging TreeNode(1) and TreeNode(9) to TreeNode(10)\n",
      "2021-10-27 16:56:05 [tsdrg.py] INFO: step 5, merging TreeNode(0) and TreeNode(10) to TreeNode(11)\n",
      "2021-10-27 16:56:05 [tsdrg.py] INFO: Reach head node of the tree\n",
      "2021-10-27 16:56:05 [tsdrg.py] INFO: Obtain ground state energies [-5.725274   -5.72107734 -4.74615997 -4.71268557 -4.06178764 -3.51217086\n",
      " -3.25686868 -3.1702727  -3.08738826 -2.96569967 -2.96208476 -2.36976171\n",
      " -2.2468987  -1.96518603 -1.93061032 -1.66092774 -1.63521806 -1.53696184\n",
      " -1.53608151 -1.50235556 -1.3824775  -1.30353663 -1.28495105 -0.74151444\n",
      " -0.48708556 -0.46889621 -0.38280498 -0.32933783  0.02287853  0.02405187\n",
      "  0.11860807  0.14026275]\n"
     ]
    }
   ],
   "source": [
    "from tnpy.tsdrg import TSDRG\n",
    "\n",
    "tsdrg = TSDRG(model.mpo, chi=32)\n",
    "tsdrg.run()"
   ]
  },
  {
   "cell_type": "markdown",
   "metadata": {
    "pycharm": {
     "name": "#%% md\n"
    }
   },
   "source": [
    "but if we take the maximum bond dimensions $\\chi = 2 ** N$, which is 64 here, then the result will then be exact."
   ]
  },
  {
   "cell_type": "code",
   "execution_count": 4,
   "metadata": {
    "pycharm": {
     "name": "#%%\n"
    }
   },
   "outputs": [
    {
     "name": "stderr",
     "output_type": "stream",
     "text": [
      "2021-10-27 16:56:14 [tsdrg.py] INFO: step 1, merging TreeNode(4) and TreeNode(5) to TreeNode(7)\n",
      "2021-10-27 16:56:14 [tsdrg.py] INFO: step 2, merging TreeNode(2) and TreeNode(3) to TreeNode(8)\n",
      "2021-10-27 16:56:14 [tsdrg.py] INFO: step 3, merging TreeNode(8) and TreeNode(7) to TreeNode(9)\n",
      "2021-10-27 16:56:14 [tsdrg.py] INFO: step 4, merging TreeNode(1) and TreeNode(9) to TreeNode(10)\n",
      "2021-10-27 16:56:14 [tsdrg.py] INFO: step 5, merging TreeNode(0) and TreeNode(10) to TreeNode(11)\n",
      "2021-10-27 16:56:14 [tsdrg.py] INFO: Reach head node of the tree\n",
      "2021-10-27 16:56:14 [tsdrg.py] INFO: Obtain ground state energies [-5.725274   -5.72107734 -4.74615997 -4.71268557 -4.06178764 -3.51217086\n",
      " -3.25686868 -3.1702727  -3.08738826 -2.96569967 -2.96208476 -2.36976171\n",
      " -2.2468987  -1.96518603 -1.93061032 -1.66092774 -1.63521806 -1.53696184\n",
      " -1.53608151 -1.50235556 -1.3824775  -1.30353663 -1.28495105 -0.74151444\n",
      " -0.48708556 -0.46889621 -0.38280498 -0.32933783  0.02287853  0.02405187\n",
      "  0.11860807  0.14026275  0.25916564  0.26466405  0.29724328  0.41903877\n",
      "  0.52586047  0.57210892  0.73767002  0.99008145  0.99912061  1.28296561\n",
      "  1.39148235  1.50087939  1.58252137  1.62971816  1.79899183  1.80060276\n",
      "  1.82251982  2.32711     2.35072418  2.42976868  2.51529568  2.62638576\n",
      "  2.77518678  2.78965217  3.0927528   3.37982529  3.39238364  3.40923678\n",
      "  3.59608887  4.2094474   4.42301798  5.18876342]\n"
     ]
    }
   ],
   "source": [
    "tsdrg = TSDRG(model.mpo, chi=64)\n",
    "tsdrg.run()"
   ]
  },
  {
   "cell_type": "markdown",
   "metadata": {
    "pycharm": {
     "name": "#%% md\n"
    }
   },
   "source": [
    "## Correlation function\n",
    "\n",
    "<div>\n",
    "<img src=\"image/tsdrg3.png\" width=\"800\"/>\n",
    "</div>\n",
    "\n",
    "### Depth-first Search (DFS) & Common Ancestor\n",
    "\n"
   ]
  },
  {
   "cell_type": "markdown",
   "metadata": {
    "collapsed": false,
    "pycharm": {
     "name": "#%% md\n"
    }
   },
   "source": [
    "## Entanglement entropy"
   ]
  },
  {
   "cell_type": "markdown",
   "metadata": {
    "pycharm": {
     "name": "#%% md\n"
    }
   },
   "source": [
    "# References 🚀\n",
    "\n",
    "1. [Griffiths singularities in the random quantum Ising antiferromagnet: A tree tensor network renormalization group study](https://journals.aps.org/prb/abstract/10.1103/PhysRevB.96.064427)\n",
    "2. [Self-assembling tensor networks and holography in disordered spin chains](https://journals.aps.org/prb/abstract/10.1103/PhysRevB.89.214203)"
   ]
  }
 ],
 "metadata": {
  "kernelspec": {
   "display_name": "Python 3 (ipykernel)",
   "language": "python",
   "name": "python3"
  },
  "language_info": {
   "codemirror_mode": {
    "name": "ipython",
    "version": 3
   },
   "file_extension": ".py",
   "mimetype": "text/x-python",
   "name": "python",
   "nbconvert_exporter": "python",
   "pygments_lexer": "ipython3",
   "version": "3.8.3"
  }
 },
 "nbformat": 4,
 "nbformat_minor": 1
}
